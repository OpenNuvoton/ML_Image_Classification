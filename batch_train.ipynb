{
 "cells": [
  {
   "cell_type": "markdown",
   "id": "49a71920-530e-4278-9ffa-e51ec07f2e89",
   "metadata": {},
   "source": [
    "# This notebook help you to train many models consecutively\n",
    "- Each training block is a command, and feel free to update parameters you like.\n",
    "- You can run this and take a day off. When you come back, you will get many models.\n",
    "- Final step is choosing the model most fit your device's purpose. Each model info, please check the `workspace/{YorTask_N}/result_plots/fine_train_testAcc_{time}.txt` "
   ]
  },
  {
   "cell_type": "code",
   "execution_count": null,
   "id": "ce6dcecc-2bf1-4a3a-90e9-6231ab6be03f",
   "metadata": {},
   "outputs": [],
   "source": [
    "%run train.py --data_exist True --dataset_name flower_photos --proj_name mobilev1_025_96_flower --BATCH_SIZE 32 --IMG_SIZE 96 --VAL_PCT 0.2 --MODEL_NAME mobilenet_v1 --TEST_PCT 0.2 --DATA_AUGM True --EPOCHS 10,30 --LEARNING_RATE 0.0001,0.00005 --FINE_TUNE_LAYER 70 --switch_mode 3 --ALPHA_WIDTH 0.25 --IMAGENET_MODEL_EN 0"
   ]
  },
  {
   "cell_type": "code",
   "execution_count": null,
   "id": "3a7a2e22-5154-4539-af33-e2c219340cd9",
   "metadata": {},
   "outputs": [],
   "source": [
    "%run train.py --data_exist True --dataset_name flower_photos --proj_name mobilev1_025_128_flower --BATCH_SIZE 32 --IMG_SIZE 128 --VAL_PCT 0.2 --MODEL_NAME mobilenet_v1 --TEST_PCT 0.2 --DATA_AUGM True --EPOCHS 10,30 --LEARNING_RATE 0.0001,0.00005 --FINE_TUNE_LAYER 70 --switch_mode 3 --ALPHA_WIDTH 0.25 --IMAGENET_MODEL_EN 0"
   ]
  },
  {
   "cell_type": "code",
   "execution_count": null,
   "id": "a04c4a84-61b1-4073-82c6-ece4d8ef9f78",
   "metadata": {},
   "outputs": [],
   "source": [
    "%run train.py --data_exist True --dataset_name flower_photos --proj_name mobilev2_035_128_flower --BATCH_SIZE 32 --IMG_SIZE 128 --VAL_PCT 0.1 --MODEL_NAME mobilenet_v2 --TEST_PCT 0.5 --DATA_AUGM True --EPOCHS 10,25 --LEARNING_RATE 0.0001,0.00001 --FINE_TUNE_LAYER 70 --switch_mode 3 --ALPHA_WIDTH 0.35 --IMAGENET_MODEL_EN 0"
   ]
  },
  {
   "cell_type": "code",
   "execution_count": null,
   "id": "34fb5d10-660e-4eb2-bf79-c4ee3583e684",
   "metadata": {},
   "outputs": [],
   "source": [
    "%run train.py --data_exist True --dataset_name flower_photos --proj_name mobilev2_035_96_flower --BATCH_SIZE 32 --IMG_SIZE 96 --VAL_PCT 0.1 --MODEL_NAME mobilenet_v2 --TEST_PCT 0.5 --DATA_AUGM True --EPOCHS 10,25 --LEARNING_RATE 0.0001,0.00001 --FINE_TUNE_LAYER 70 --switch_mode 3 --ALPHA_WIDTH 0.35 --IMAGENET_MODEL_EN 0"
   ]
  }
 ],
 "metadata": {
  "kernelspec": {
   "display_name": "Python 3 (ipykernel)",
   "language": "python",
   "name": "python3"
  },
  "language_info": {
   "codemirror_mode": {
    "name": "ipython",
    "version": 3
   },
   "file_extension": ".py",
   "mimetype": "text/x-python",
   "name": "python",
   "nbconvert_exporter": "python",
   "pygments_lexer": "ipython3",
   "version": "3.8.13"
  }
 },
 "nbformat": 4,
 "nbformat_minor": 5
}
